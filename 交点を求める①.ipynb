{
  "nbformat": 4,
  "nbformat_minor": 0,
  "metadata": {
    "colab": {
      "provenance": [],
      "authorship_tag": "ABX9TyPCD59KwHVB0oeoKro7z4oa",
      "include_colab_link": true
    },
    "kernelspec": {
      "name": "python3",
      "display_name": "Python 3"
    },
    "language_info": {
      "name": "python"
    }
  },
  "cells": [
    {
      "cell_type": "markdown",
      "metadata": {
        "id": "view-in-github",
        "colab_type": "text"
      },
      "source": [
        "<a href=\"https://colab.research.google.com/github/shimiiizu/Circular_Motion_Simulation/blob/main/%E4%BA%A4%E7%82%B9%E3%82%92%E6%B1%82%E3%82%81%E3%82%8B%E2%91%A0.ipynb\" target=\"_parent\"><img src=\"https://colab.research.google.com/assets/colab-badge.svg\" alt=\"Open In Colab\"/></a>"
      ]
    },
    {
      "cell_type": "code",
      "execution_count": 23,
      "metadata": {
        "id": "t55gFFC9_cj_"
      },
      "outputs": [],
      "source": [
        "import pandas as pd\n",
        "import numpy as np\n",
        "import matplotlib.pyplot as plt\n",
        "\n",
        "df = pd.read_csv('./csvfile.csv')"
      ]
    },
    {
      "cell_type": "code",
      "source": [
        "# 多項式近似\n",
        "z1 = np.polyfit(df.x1, df.y1, 1)\n",
        "p1 = np.poly1d(z1)\n",
        "\n",
        "z2 = np.polyfit(df.x2, df.y2, 1)\n",
        "p2 = np.poly1d(z2)\n"
      ],
      "metadata": {
        "id": "_x79bKv9B8vH"
      },
      "execution_count": 24,
      "outputs": []
    },
    {
      "cell_type": "code",
      "source": [
        "# グラフの描画\n",
        "plt.scatter(df.x1, df.y1)\n",
        "plt.plot(df.x1, p1(df.x1), color='r')\n",
        "\n",
        "plt.scatter(df.x2, df.y2)\n",
        "plt.plot(df.x2, p2(df.x2), color='blue')\n",
        "\n",
        "plt.show()"
      ],
      "metadata": {
        "colab": {
          "base_uri": "https://localhost:8080/",
          "height": 265
        },
        "id": "vEBARHoMCgxw",
        "outputId": "fa977ecf-7574-45c5-9aea-85b6bc0a68c7"
      },
      "execution_count": 25,
      "outputs": [
        {
          "output_type": "display_data",
          "data": {
            "text/plain": [
              "<Figure size 432x288 with 1 Axes>"
            ],
            "image/png": "[encoded data removed]"
          },
          "metadata": {
            "needs_background": "light"
          }
        }
      ]
    },
    {
      "cell_type": "code",
      "source": [],
      "metadata": {
        "id": "NPzocatLCl9P"
      },
      "execution_count": 25,
      "outputs": []
    }
  ]
}