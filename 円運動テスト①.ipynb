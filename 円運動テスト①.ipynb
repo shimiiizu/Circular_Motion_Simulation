{
  "nbformat": 4,
  "nbformat_minor": 0,
  "metadata": {
    "colab": {
      "provenance": [],
      "authorship_tag": "ABX9TyNoSdxM2bWqHYepYNp043z7",
      "include_colab_link": true
    },
    "kernelspec": {
      "name": "python3",
      "display_name": "Python 3"
    },
    "language_info": {
      "name": "python"
    }
  },
  "cells": [
    {
      "cell_type": "markdown",
      "metadata": {
        "id": "view-in-github",
        "colab_type": "text"
      },
      "source": [
        "<a href=\"https://colab.research.google.com/github/shimiiizu/Circular_Motion_Simulation/blob/main/%E5%86%86%E9%81%8B%E5%8B%95%E3%83%86%E3%82%B9%E3%83%88%E2%91%A0.ipynb\" target=\"_parent\"><img src=\"https://colab.research.google.com/assets/colab-badge.svg\" alt=\"Open In Colab\"/></a>"
      ]
    },
    {
      "cell_type": "markdown",
      "source": [
        "円運動のシミュレーション"
      ],
      "metadata": {
        "id": "Aj0mhGV7pcfi"
      }
    },
    {
      "cell_type": "code",
      "execution_count": 1,
      "metadata": {
        "id": "Sq552NSMpTW5"
      },
      "outputs": [],
      "source": [
        "import numpy as np\n",
        "import matplotlib.pyplot as plt"
      ]
    },
    {
      "cell_type": "code",
      "source": [
        "# 初期条件\n",
        "x0 = 0.0  # 初期位置\n",
        "y0 = 1.0\n",
        "v0 = 10.0  # 初速度\n",
        "theta0 = np.pi / 4  # 初期角度\n",
        "dt = 0.01  # 時間刻み"
      ],
      "metadata": {
        "id": "idguA4ldpmg4"
      },
      "execution_count": 2,
      "outputs": []
    },
    {
      "cell_type": "code",
      "source": [
        "# 物理定数\n",
        "#g = 9.8  # 重力加速度\n",
        "g = 0 "
      ],
      "metadata": {
        "id": "upBoziNRpooF"
      },
      "execution_count": 16,
      "outputs": []
    },
    {
      "cell_type": "code",
      "source": [
        "# 時間、位置、速度を初期化\n",
        "t = 0.0\n",
        "x = x0\n",
        "y = y0\n",
        "vx = v0 * np.cos(theta0)\n",
        "vy = v0 * np.sin(theta0)"
      ],
      "metadata": {
        "id": "Ir9RkX_XpwKu"
      },
      "execution_count": 17,
      "outputs": []
    },
    {
      "cell_type": "code",
      "source": [
        "# シミュレーションの実行\n",
        "x_list = []\n",
        "y_list = []\n",
        "while t <= 100:\n",
        "    # 現在の位置と速度を保存\n",
        "    x_list.append(x)\n",
        "    y_list.append(y)\n",
        "\n",
        "    # 時間を進める\n",
        "    t += dt\n",
        "\n",
        "    # 位置と速度を更新\n",
        "    x = x + vx * dt\n",
        "    y = y + vy * dt\n",
        "    vy = vy - g * dt\n",
        "    vx = vx"
      ],
      "metadata": {
        "id": "luaqR2Fkp6am"
      },
      "execution_count": 18,
      "outputs": []
    },
    {
      "cell_type": "code",
      "source": [
        "# 結果をプロット\n",
        "plt.plot(x_list, y_list)\n",
        "plt.xlabel('x [m]')\n",
        "plt.ylabel('y [m]')\n",
        "plt.title('Circular Motion Simulation')\n",
        "plt.show()"
      ],
      "metadata": {
        "colab": {
          "base_uri": "https://localhost:8080/",
          "height": 295
        },
        "id": "H2A7gbjZp9zn",
        "outputId": "f24e4eac-4134-47b7-896d-6af1da40197b"
      },
      "execution_count": 19,
      "outputs": [
        {
          "output_type": "display_data",
          "data": {
            "text/plain": [
              "<Figure size 432x288 with 1 Axes>"
            ],
            "image/png": "[encoded data removed]"
          },
          "metadata": {
            "needs_background": "light"
          }
        }
      ]
    },
    {
      "cell_type": "code",
      "source": [],
      "metadata": {
        "id": "_DASFuWTqAou"
      },
      "execution_count": null,
      "outputs": []
    }
  ]
}