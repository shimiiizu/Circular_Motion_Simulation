{
  "nbformat": 4,
  "nbformat_minor": 0,
  "metadata": {
    "colab": {
      "provenance": [],
      "authorship_tag": "ABX9TyPvUAmrKfQuA209HkkUVjrl",
      "include_colab_link": true
    },
    "kernelspec": {
      "name": "python3",
      "display_name": "Python 3"
    },
    "language_info": {
      "name": "python"
    }
  },
  "cells": [
    {
      "cell_type": "markdown",
      "metadata": {
        "id": "view-in-github",
        "colab_type": "text"
      },
      "source": [
        "<a href=\"https://colab.research.google.com/github/shimiiizu/Circular_Motion_Simulation/blob/main/%E4%BA%A4%E7%82%B9%E3%82%92%E6%B1%82%E3%82%81%E3%82%8B%E2%91%A1.ipynb\" target=\"_parent\"><img src=\"https://colab.research.google.com/assets/colab-badge.svg\" alt=\"Open In Colab\"/></a>"
      ]
    },
    {
      "cell_type": "code",
      "execution_count": 350,
      "metadata": {
        "id": "md0_8zBI6D17"
      },
      "outputs": [],
      "source": [
        "import pandas as pd\n",
        "import numpy as np\n",
        "import matplotlib.pyplot as plt\n",
        "from scipy.interpolate import Akima1DInterpolator"
      ]
    },
    {
      "cell_type": "code",
      "source": [
        "df = pd.read_csv('./csvfile.csv')"
      ],
      "metadata": {
        "id": "aRUr4Eaw97v_"
      },
      "execution_count": 351,
      "outputs": []
    },
    {
      "cell_type": "code",
      "source": [
        "# T2電流を指定\n",
        "I = 3 \n",
        "\n",
        "# T2電圧を求める\n",
        "x1_val = I\n",
        "y1_val = np.interp(x1_val,df.x1 ,df.y1)"
      ],
      "metadata": {
        "id": "zKGv7OEL-aK9"
      },
      "execution_count": 352,
      "outputs": []
    },
    {
      "cell_type": "code",
      "source": [
        "# ICL電流を求める\n",
        "y2_val = y1_val\n",
        "x2_val = np.interp(y2_val, df.y2, df.x2)"
      ],
      "metadata": {
        "id": "_qmKaDpn_Aft"
      },
      "execution_count": 353,
      "outputs": []
    },
    {
      "cell_type": "code",
      "source": [
        "\n",
        "# 補間式のGraph化\n",
        "fig = plt.figure(figsize=(6,6))\n",
        "\n",
        "ax1 = fig.add_subplot(1, 1, 1)\n",
        "\n",
        "ax1.scatter(df.x1, df.y1 ,color='blue')\n",
        "ax1.plot(df.x1, df.y1 ,color='blue')\n",
        "\n",
        "ax1.scatter(df.x2, df.y2 ,color='red')\n",
        "ax1.plot(df.x2, df.y2 ,color='red')\n",
        "\n",
        "# 交点\n",
        "ax1.scatter(I, y1_val,color='black',s=100)\n",
        "ax1.scatter(x2_val, y1_val,color='black',s=100)\n",
        "\n",
        "# 線分\n",
        "ax1.plot(np.array([I, I]), np.array([0, y1_val]) ,'--', color='blue')\n",
        "ax1.plot(np.array([x2_val, y1_val]), np.array([I, y1_val]),'--', color='black')\n",
        "ax1.plot(np.array([x2_val, x2_val]), np.array([y2_val, 0]) ,'--', color='red')\n",
        "\n",
        "ax1.set_xlim(0,4)\n",
        "ax1.set_ylim(0,8)\n",
        "\n",
        "plt.show()"
      ],
      "metadata": {
        "colab": {
          "base_uri": "https://localhost:8080/",
          "height": 378
        },
        "id": "C0Onxr_Y_eMW",
        "outputId": "0c0a998f-1fe0-45aa-aab4-957c88673def"
      },
      "execution_count": 354,
      "outputs": [
        {
          "output_type": "display_data",
          "data": {
            "text/plain": [
              "<Figure size 432x432 with 1 Axes>"
            ],
            "image/png": "[encoded data removed]"
          },
          "metadata": {
            "needs_background": "light"
          }
        }
      ]
    }
  ]
}